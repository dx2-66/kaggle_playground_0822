{
 "cells": [
  {
   "cell_type": "code",
   "execution_count": 304,
   "metadata": {
    "execution": {
     "iopub.execute_input": "2022-08-22T12:45:23.606382Z",
     "iopub.status.busy": "2022-08-22T12:45:23.605868Z",
     "iopub.status.idle": "2022-08-22T12:45:23.614245Z",
     "shell.execute_reply": "2022-08-22T12:45:23.612666Z",
     "shell.execute_reply.started": "2022-08-22T12:45:23.606331Z"
    }
   },
   "outputs": [],
   "source": [
    "import warnings\n",
    "warnings.simplefilter(action='ignore')"
   ]
  },
  {
   "cell_type": "code",
   "execution_count": 305,
   "metadata": {
    "execution": {
     "iopub.execute_input": "2022-08-22T12:45:23.616939Z",
     "iopub.status.busy": "2022-08-22T12:45:23.616521Z",
     "iopub.status.idle": "2022-08-22T12:45:23.628619Z",
     "shell.execute_reply": "2022-08-22T12:45:23.626626Z",
     "shell.execute_reply.started": "2022-08-22T12:45:23.616903Z"
    }
   },
   "outputs": [],
   "source": [
    "import pandas as pd\n",
    "import matplotlib.pyplot as plt\n",
    "import seaborn as sns\n",
    "import scipy.stats as st\n",
    "import statsmodels.api as sm\n",
    "import numpy as np\n",
    "\n",
    "from sklearn.model_selection import train_test_split\n",
    "from sklearn.pipeline import Pipeline\n",
    "from sklearn.linear_model import LogisticRegression, SGDClassifier\n",
    "from sklearn.ensemble import StackingClassifier, VotingClassifier\n",
    "from sklearn.naive_bayes import GaussianNB\n",
    "from sklearn.dummy import DummyClassifier\n",
    "from sklearn.metrics import accuracy_score, f1_score, roc_auc_score, average_precision_score, confusion_matrix, roc_curve, precision_recall_curve\n",
    "from sklearn.preprocessing import MinMaxScaler, StandardScaler, RobustScaler, Normalizer, PowerTransformer, QuantileTransformer\n",
    "from sklearn.feature_selection import mutual_info_classif\n",
    "from sklearn.decomposition import TruncatedSVD\n",
    "from sklearn.discriminant_analysis import LinearDiscriminantAnalysis\n",
    "\n",
    "from statsmodels.stats.outliers_influence import variance_inflation_factor\n",
    "from skopt import BayesSearchCV"
   ]
  },
  {
   "cell_type": "code",
   "execution_count": 306,
   "metadata": {
    "execution": {
     "iopub.execute_input": "2022-08-22T12:45:23.631577Z",
     "iopub.status.busy": "2022-08-22T12:45:23.631092Z",
     "iopub.status.idle": "2022-08-22T12:45:23.646900Z",
     "shell.execute_reply": "2022-08-22T12:45:23.645405Z",
     "shell.execute_reply.started": "2022-08-22T12:45:23.631526Z"
    }
   },
   "outputs": [],
   "source": [
    "RANDOM_STATE=177013"
   ]
  },
  {
   "cell_type": "markdown",
   "metadata": {},
   "source": [
    "## Data review"
   ]
  },
  {
   "cell_type": "code",
   "execution_count": 307,
   "metadata": {
    "execution": {
     "iopub.execute_input": "2022-08-22T12:45:23.649733Z",
     "iopub.status.busy": "2022-08-22T12:45:23.649310Z",
     "iopub.status.idle": "2022-08-22T12:45:23.783563Z",
     "shell.execute_reply": "2022-08-22T12:45:23.782322Z",
     "shell.execute_reply.started": "2022-08-22T12:45:23.649697Z"
    }
   },
   "outputs": [],
   "source": [
    "df = pd.read_csv('/kaggle/input/tabular-playground-series-aug-2022/train.csv', index_col='id')"
   ]
  },
  {
   "cell_type": "code",
   "execution_count": 308,
   "metadata": {
    "execution": {
     "iopub.execute_input": "2022-08-22T12:45:23.786539Z",
     "iopub.status.busy": "2022-08-22T12:45:23.786173Z",
     "iopub.status.idle": "2022-08-22T12:45:23.811461Z",
     "shell.execute_reply": "2022-08-22T12:45:23.809735Z",
     "shell.execute_reply.started": "2022-08-22T12:45:23.786477Z"
    }
   },
   "outputs": [
    {
     "name": "stdout",
     "output_type": "stream",
     "text": [
      "<class 'pandas.core.frame.DataFrame'>\n",
      "Int64Index: 26570 entries, 0 to 26569\n",
      "Data columns (total 25 columns):\n",
      " #   Column          Non-Null Count  Dtype  \n",
      "---  ------          --------------  -----  \n",
      " 0   product_code    26570 non-null  object \n",
      " 1   loading         26320 non-null  float64\n",
      " 2   attribute_0     26570 non-null  object \n",
      " 3   attribute_1     26570 non-null  object \n",
      " 4   attribute_2     26570 non-null  int64  \n",
      " 5   attribute_3     26570 non-null  int64  \n",
      " 6   measurement_0   26570 non-null  int64  \n",
      " 7   measurement_1   26570 non-null  int64  \n",
      " 8   measurement_2   26570 non-null  int64  \n",
      " 9   measurement_3   26189 non-null  float64\n",
      " 10  measurement_4   26032 non-null  float64\n",
      " 11  measurement_5   25894 non-null  float64\n",
      " 12  measurement_6   25774 non-null  float64\n",
      " 13  measurement_7   25633 non-null  float64\n",
      " 14  measurement_8   25522 non-null  float64\n",
      " 15  measurement_9   25343 non-null  float64\n",
      " 16  measurement_10  25270 non-null  float64\n",
      " 17  measurement_11  25102 non-null  float64\n",
      " 18  measurement_12  24969 non-null  float64\n",
      " 19  measurement_13  24796 non-null  float64\n",
      " 20  measurement_14  24696 non-null  float64\n",
      " 21  measurement_15  24561 non-null  float64\n",
      " 22  measurement_16  24460 non-null  float64\n",
      " 23  measurement_17  24286 non-null  float64\n",
      " 24  failure         26570 non-null  int64  \n",
      "dtypes: float64(16), int64(6), object(3)\n",
      "memory usage: 5.3+ MB\n"
     ]
    }
   ],
   "source": [
    "df.info()"
   ]
  },
  {
   "cell_type": "code",
   "execution_count": 309,
   "metadata": {
    "execution": {
     "iopub.execute_input": "2022-08-22T12:45:23.813480Z",
     "iopub.status.busy": "2022-08-22T12:45:23.813092Z",
     "iopub.status.idle": "2022-08-22T12:45:23.934637Z",
     "shell.execute_reply": "2022-08-22T12:45:23.932814Z",
     "shell.execute_reply.started": "2022-08-22T12:45:23.813446Z"
    }
   },
   "outputs": [
    {
     "data": {
      "text/html": [
       "<div>\n",
       "<style scoped>\n",
       "    .dataframe tbody tr th:only-of-type {\n",
       "        vertical-align: middle;\n",
       "    }\n",
       "\n",
       "    .dataframe tbody tr th {\n",
       "        vertical-align: top;\n",
       "    }\n",
       "\n",
       "    .dataframe thead th {\n",
       "        text-align: right;\n",
       "    }\n",
       "</style>\n",
       "<table border=\"1\" class=\"dataframe\">\n",
       "  <thead>\n",
       "    <tr style=\"text-align: right;\">\n",
       "      <th></th>\n",
       "      <th>count</th>\n",
       "      <th>mean</th>\n",
       "      <th>std</th>\n",
       "      <th>min</th>\n",
       "      <th>25%</th>\n",
       "      <th>50%</th>\n",
       "      <th>75%</th>\n",
       "      <th>max</th>\n",
       "    </tr>\n",
       "  </thead>\n",
       "  <tbody>\n",
       "    <tr>\n",
       "      <th>loading</th>\n",
       "      <td>26320.0</td>\n",
       "      <td>127.826233</td>\n",
       "      <td>39.030020</td>\n",
       "      <td>33.160</td>\n",
       "      <td>99.98750</td>\n",
       "      <td>122.3900</td>\n",
       "      <td>149.15250</td>\n",
       "      <td>385.860</td>\n",
       "    </tr>\n",
       "    <tr>\n",
       "      <th>attribute_2</th>\n",
       "      <td>26570.0</td>\n",
       "      <td>6.754046</td>\n",
       "      <td>1.471852</td>\n",
       "      <td>5.000</td>\n",
       "      <td>6.00000</td>\n",
       "      <td>6.0000</td>\n",
       "      <td>8.00000</td>\n",
       "      <td>9.000</td>\n",
       "    </tr>\n",
       "    <tr>\n",
       "      <th>attribute_3</th>\n",
       "      <td>26570.0</td>\n",
       "      <td>7.240459</td>\n",
       "      <td>1.456493</td>\n",
       "      <td>5.000</td>\n",
       "      <td>6.00000</td>\n",
       "      <td>8.0000</td>\n",
       "      <td>8.00000</td>\n",
       "      <td>9.000</td>\n",
       "    </tr>\n",
       "    <tr>\n",
       "      <th>measurement_0</th>\n",
       "      <td>26570.0</td>\n",
       "      <td>7.415883</td>\n",
       "      <td>4.116690</td>\n",
       "      <td>0.000</td>\n",
       "      <td>4.00000</td>\n",
       "      <td>7.0000</td>\n",
       "      <td>10.00000</td>\n",
       "      <td>29.000</td>\n",
       "    </tr>\n",
       "    <tr>\n",
       "      <th>measurement_1</th>\n",
       "      <td>26570.0</td>\n",
       "      <td>8.232518</td>\n",
       "      <td>4.199401</td>\n",
       "      <td>0.000</td>\n",
       "      <td>5.00000</td>\n",
       "      <td>8.0000</td>\n",
       "      <td>11.00000</td>\n",
       "      <td>29.000</td>\n",
       "    </tr>\n",
       "    <tr>\n",
       "      <th>measurement_2</th>\n",
       "      <td>26570.0</td>\n",
       "      <td>6.256568</td>\n",
       "      <td>3.309109</td>\n",
       "      <td>0.000</td>\n",
       "      <td>4.00000</td>\n",
       "      <td>6.0000</td>\n",
       "      <td>8.00000</td>\n",
       "      <td>24.000</td>\n",
       "    </tr>\n",
       "    <tr>\n",
       "      <th>measurement_3</th>\n",
       "      <td>26189.0</td>\n",
       "      <td>17.791528</td>\n",
       "      <td>1.001200</td>\n",
       "      <td>13.968</td>\n",
       "      <td>17.11700</td>\n",
       "      <td>17.7870</td>\n",
       "      <td>18.46900</td>\n",
       "      <td>21.499</td>\n",
       "    </tr>\n",
       "    <tr>\n",
       "      <th>measurement_4</th>\n",
       "      <td>26032.0</td>\n",
       "      <td>11.731988</td>\n",
       "      <td>0.996085</td>\n",
       "      <td>8.008</td>\n",
       "      <td>11.05100</td>\n",
       "      <td>11.7330</td>\n",
       "      <td>12.41000</td>\n",
       "      <td>16.484</td>\n",
       "    </tr>\n",
       "    <tr>\n",
       "      <th>measurement_5</th>\n",
       "      <td>25894.0</td>\n",
       "      <td>17.127804</td>\n",
       "      <td>0.996414</td>\n",
       "      <td>12.073</td>\n",
       "      <td>16.44300</td>\n",
       "      <td>17.1320</td>\n",
       "      <td>17.80500</td>\n",
       "      <td>21.425</td>\n",
       "    </tr>\n",
       "    <tr>\n",
       "      <th>measurement_6</th>\n",
       "      <td>25774.0</td>\n",
       "      <td>17.510759</td>\n",
       "      <td>0.995980</td>\n",
       "      <td>12.715</td>\n",
       "      <td>16.83900</td>\n",
       "      <td>17.5160</td>\n",
       "      <td>18.17800</td>\n",
       "      <td>21.543</td>\n",
       "    </tr>\n",
       "    <tr>\n",
       "      <th>measurement_7</th>\n",
       "      <td>25633.0</td>\n",
       "      <td>11.716624</td>\n",
       "      <td>1.000836</td>\n",
       "      <td>7.968</td>\n",
       "      <td>11.04500</td>\n",
       "      <td>11.7120</td>\n",
       "      <td>12.39100</td>\n",
       "      <td>15.419</td>\n",
       "    </tr>\n",
       "    <tr>\n",
       "      <th>measurement_8</th>\n",
       "      <td>25522.0</td>\n",
       "      <td>19.024714</td>\n",
       "      <td>1.008591</td>\n",
       "      <td>15.217</td>\n",
       "      <td>18.34025</td>\n",
       "      <td>19.0210</td>\n",
       "      <td>19.70800</td>\n",
       "      <td>23.807</td>\n",
       "    </tr>\n",
       "    <tr>\n",
       "      <th>measurement_9</th>\n",
       "      <td>25343.0</td>\n",
       "      <td>11.430725</td>\n",
       "      <td>0.999137</td>\n",
       "      <td>7.537</td>\n",
       "      <td>10.75700</td>\n",
       "      <td>11.4300</td>\n",
       "      <td>12.10200</td>\n",
       "      <td>15.412</td>\n",
       "    </tr>\n",
       "    <tr>\n",
       "      <th>measurement_10</th>\n",
       "      <td>25270.0</td>\n",
       "      <td>16.117711</td>\n",
       "      <td>1.405978</td>\n",
       "      <td>9.323</td>\n",
       "      <td>15.20900</td>\n",
       "      <td>16.1270</td>\n",
       "      <td>17.02500</td>\n",
       "      <td>22.479</td>\n",
       "    </tr>\n",
       "    <tr>\n",
       "      <th>measurement_11</th>\n",
       "      <td>25102.0</td>\n",
       "      <td>19.172085</td>\n",
       "      <td>1.520785</td>\n",
       "      <td>12.461</td>\n",
       "      <td>18.17000</td>\n",
       "      <td>19.2115</td>\n",
       "      <td>20.20700</td>\n",
       "      <td>25.640</td>\n",
       "    </tr>\n",
       "    <tr>\n",
       "      <th>measurement_12</th>\n",
       "      <td>24969.0</td>\n",
       "      <td>11.702464</td>\n",
       "      <td>1.488838</td>\n",
       "      <td>5.167</td>\n",
       "      <td>10.70300</td>\n",
       "      <td>11.7170</td>\n",
       "      <td>12.70900</td>\n",
       "      <td>17.663</td>\n",
       "    </tr>\n",
       "    <tr>\n",
       "      <th>measurement_13</th>\n",
       "      <td>24796.0</td>\n",
       "      <td>15.652904</td>\n",
       "      <td>1.155247</td>\n",
       "      <td>10.890</td>\n",
       "      <td>14.89000</td>\n",
       "      <td>15.6285</td>\n",
       "      <td>16.37400</td>\n",
       "      <td>22.713</td>\n",
       "    </tr>\n",
       "    <tr>\n",
       "      <th>measurement_14</th>\n",
       "      <td>24696.0</td>\n",
       "      <td>16.048444</td>\n",
       "      <td>1.491923</td>\n",
       "      <td>9.140</td>\n",
       "      <td>15.05700</td>\n",
       "      <td>16.0400</td>\n",
       "      <td>17.08200</td>\n",
       "      <td>22.303</td>\n",
       "    </tr>\n",
       "    <tr>\n",
       "      <th>measurement_15</th>\n",
       "      <td>24561.0</td>\n",
       "      <td>14.995554</td>\n",
       "      <td>1.549226</td>\n",
       "      <td>9.104</td>\n",
       "      <td>13.95700</td>\n",
       "      <td>14.9690</td>\n",
       "      <td>16.01800</td>\n",
       "      <td>21.626</td>\n",
       "    </tr>\n",
       "    <tr>\n",
       "      <th>measurement_16</th>\n",
       "      <td>24460.0</td>\n",
       "      <td>16.460727</td>\n",
       "      <td>1.708935</td>\n",
       "      <td>9.701</td>\n",
       "      <td>15.26800</td>\n",
       "      <td>16.4360</td>\n",
       "      <td>17.62800</td>\n",
       "      <td>24.094</td>\n",
       "    </tr>\n",
       "    <tr>\n",
       "      <th>measurement_17</th>\n",
       "      <td>24286.0</td>\n",
       "      <td>701.269059</td>\n",
       "      <td>123.304161</td>\n",
       "      <td>196.787</td>\n",
       "      <td>618.96150</td>\n",
       "      <td>701.0245</td>\n",
       "      <td>784.09025</td>\n",
       "      <td>1312.794</td>\n",
       "    </tr>\n",
       "    <tr>\n",
       "      <th>failure</th>\n",
       "      <td>26570.0</td>\n",
       "      <td>0.212608</td>\n",
       "      <td>0.409160</td>\n",
       "      <td>0.000</td>\n",
       "      <td>0.00000</td>\n",
       "      <td>0.0000</td>\n",
       "      <td>0.00000</td>\n",
       "      <td>1.000</td>\n",
       "    </tr>\n",
       "  </tbody>\n",
       "</table>\n",
       "</div>"
      ],
      "text/plain": [
       "                  count        mean         std      min        25%       50%  \\\n",
       "loading         26320.0  127.826233   39.030020   33.160   99.98750  122.3900   \n",
       "attribute_2     26570.0    6.754046    1.471852    5.000    6.00000    6.0000   \n",
       "attribute_3     26570.0    7.240459    1.456493    5.000    6.00000    8.0000   \n",
       "measurement_0   26570.0    7.415883    4.116690    0.000    4.00000    7.0000   \n",
       "measurement_1   26570.0    8.232518    4.199401    0.000    5.00000    8.0000   \n",
       "measurement_2   26570.0    6.256568    3.309109    0.000    4.00000    6.0000   \n",
       "measurement_3   26189.0   17.791528    1.001200   13.968   17.11700   17.7870   \n",
       "measurement_4   26032.0   11.731988    0.996085    8.008   11.05100   11.7330   \n",
       "measurement_5   25894.0   17.127804    0.996414   12.073   16.44300   17.1320   \n",
       "measurement_6   25774.0   17.510759    0.995980   12.715   16.83900   17.5160   \n",
       "measurement_7   25633.0   11.716624    1.000836    7.968   11.04500   11.7120   \n",
       "measurement_8   25522.0   19.024714    1.008591   15.217   18.34025   19.0210   \n",
       "measurement_9   25343.0   11.430725    0.999137    7.537   10.75700   11.4300   \n",
       "measurement_10  25270.0   16.117711    1.405978    9.323   15.20900   16.1270   \n",
       "measurement_11  25102.0   19.172085    1.520785   12.461   18.17000   19.2115   \n",
       "measurement_12  24969.0   11.702464    1.488838    5.167   10.70300   11.7170   \n",
       "measurement_13  24796.0   15.652904    1.155247   10.890   14.89000   15.6285   \n",
       "measurement_14  24696.0   16.048444    1.491923    9.140   15.05700   16.0400   \n",
       "measurement_15  24561.0   14.995554    1.549226    9.104   13.95700   14.9690   \n",
       "measurement_16  24460.0   16.460727    1.708935    9.701   15.26800   16.4360   \n",
       "measurement_17  24286.0  701.269059  123.304161  196.787  618.96150  701.0245   \n",
       "failure         26570.0    0.212608    0.409160    0.000    0.00000    0.0000   \n",
       "\n",
       "                      75%       max  \n",
       "loading         149.15250   385.860  \n",
       "attribute_2       8.00000     9.000  \n",
       "attribute_3       8.00000     9.000  \n",
       "measurement_0    10.00000    29.000  \n",
       "measurement_1    11.00000    29.000  \n",
       "measurement_2     8.00000    24.000  \n",
       "measurement_3    18.46900    21.499  \n",
       "measurement_4    12.41000    16.484  \n",
       "measurement_5    17.80500    21.425  \n",
       "measurement_6    18.17800    21.543  \n",
       "measurement_7    12.39100    15.419  \n",
       "measurement_8    19.70800    23.807  \n",
       "measurement_9    12.10200    15.412  \n",
       "measurement_10   17.02500    22.479  \n",
       "measurement_11   20.20700    25.640  \n",
       "measurement_12   12.70900    17.663  \n",
       "measurement_13   16.37400    22.713  \n",
       "measurement_14   17.08200    22.303  \n",
       "measurement_15   16.01800    21.626  \n",
       "measurement_16   17.62800    24.094  \n",
       "measurement_17  784.09025  1312.794  \n",
       "failure           0.00000     1.000  "
      ]
     },
     "execution_count": 309,
     "metadata": {},
     "output_type": "execute_result"
    }
   ],
   "source": [
    "df.describe().T"
   ]
  },
  {
   "cell_type": "code",
   "execution_count": 310,
   "metadata": {
    "execution": {
     "iopub.execute_input": "2022-08-22T12:45:23.938222Z",
     "iopub.status.busy": "2022-08-22T12:45:23.937840Z",
     "iopub.status.idle": "2022-08-22T12:45:23.956909Z",
     "shell.execute_reply": "2022-08-22T12:45:23.955713Z",
     "shell.execute_reply.started": "2022-08-22T12:45:23.938189Z"
    }
   },
   "outputs": [
    {
     "data": {
      "text/plain": [
       "product_code      0.000000\n",
       "loading           0.009409\n",
       "attribute_0       0.000000\n",
       "attribute_1       0.000000\n",
       "attribute_2       0.000000\n",
       "attribute_3       0.000000\n",
       "measurement_0     0.000000\n",
       "measurement_1     0.000000\n",
       "measurement_2     0.000000\n",
       "measurement_3     0.014339\n",
       "measurement_4     0.020248\n",
       "measurement_5     0.025442\n",
       "measurement_6     0.029959\n",
       "measurement_7     0.035265\n",
       "measurement_8     0.039443\n",
       "measurement_9     0.046180\n",
       "measurement_10    0.048927\n",
       "measurement_11    0.055250\n",
       "measurement_12    0.060256\n",
       "measurement_13    0.066767\n",
       "measurement_14    0.070531\n",
       "measurement_15    0.075612\n",
       "measurement_16    0.079413\n",
       "measurement_17    0.085962\n",
       "failure           0.000000\n",
       "dtype: float64"
      ]
     },
     "execution_count": 310,
     "metadata": {},
     "output_type": "execute_result"
    }
   ],
   "source": [
    "df.isna().mean()"
   ]
  },
  {
   "cell_type": "code",
   "execution_count": 311,
   "metadata": {
    "execution": {
     "iopub.execute_input": "2022-08-22T12:45:23.958667Z",
     "iopub.status.busy": "2022-08-22T12:45:23.958218Z",
     "iopub.status.idle": "2022-08-22T12:45:23.972536Z",
     "shell.execute_reply": "2022-08-22T12:45:23.971204Z",
     "shell.execute_reply.started": "2022-08-22T12:45:23.958631Z"
    }
   },
   "outputs": [
    {
     "data": {
      "text/plain": [
       "C    5765\n",
       "E    5343\n",
       "B    5250\n",
       "D    5112\n",
       "A    5100\n",
       "Name: product_code, dtype: int64"
      ]
     },
     "execution_count": 311,
     "metadata": {},
     "output_type": "execute_result"
    }
   ],
   "source": [
    "df['product_code'].value_counts()"
   ]
  },
  {
   "cell_type": "code",
   "execution_count": 312,
   "metadata": {
    "execution": {
     "iopub.execute_input": "2022-08-22T12:45:23.975318Z",
     "iopub.status.busy": "2022-08-22T12:45:23.974836Z",
     "iopub.status.idle": "2022-08-22T12:45:23.991935Z",
     "shell.execute_reply": "2022-08-22T12:45:23.990759Z",
     "shell.execute_reply.started": "2022-08-22T12:45:23.975270Z"
    }
   },
   "outputs": [
    {
     "data": {
      "text/plain": [
       "material_7    21320\n",
       "material_5     5250\n",
       "Name: attribute_0, dtype: int64"
      ]
     },
     "execution_count": 312,
     "metadata": {},
     "output_type": "execute_result"
    }
   ],
   "source": [
    "df['attribute_0'].value_counts()"
   ]
  },
  {
   "cell_type": "code",
   "execution_count": 313,
   "metadata": {
    "execution": {
     "iopub.execute_input": "2022-08-22T12:45:23.993569Z",
     "iopub.status.busy": "2022-08-22T12:45:23.993130Z",
     "iopub.status.idle": "2022-08-22T12:45:24.012108Z",
     "shell.execute_reply": "2022-08-22T12:45:24.010438Z",
     "shell.execute_reply.started": "2022-08-22T12:45:23.993532Z"
    }
   },
   "outputs": [
    {
     "data": {
      "text/plain": [
       "material_8    10865\n",
       "material_5    10362\n",
       "material_6     5343\n",
       "Name: attribute_1, dtype: int64"
      ]
     },
     "execution_count": 313,
     "metadata": {},
     "output_type": "execute_result"
    }
   ],
   "source": [
    "df['attribute_1'].value_counts()"
   ]
  },
  {
   "cell_type": "code",
   "execution_count": 314,
   "metadata": {
    "execution": {
     "iopub.execute_input": "2022-08-22T12:45:24.013928Z",
     "iopub.status.busy": "2022-08-22T12:45:24.013485Z",
     "iopub.status.idle": "2022-08-22T12:45:24.026848Z",
     "shell.execute_reply": "2022-08-22T12:45:24.025850Z",
     "shell.execute_reply.started": "2022-08-22T12:45:24.013893Z"
    }
   },
   "outputs": [
    {
     "data": {
      "text/plain": [
       "6    10455\n",
       "5     5765\n",
       "8     5250\n",
       "9     5100\n",
       "Name: attribute_2, dtype: int64"
      ]
     },
     "execution_count": 314,
     "metadata": {},
     "output_type": "execute_result"
    }
   ],
   "source": [
    "df['attribute_2'].value_counts()"
   ]
  },
  {
   "cell_type": "code",
   "execution_count": 315,
   "metadata": {
    "execution": {
     "iopub.execute_input": "2022-08-22T12:45:24.028343Z",
     "iopub.status.busy": "2022-08-22T12:45:24.027988Z",
     "iopub.status.idle": "2022-08-22T12:45:24.045470Z",
     "shell.execute_reply": "2022-08-22T12:45:24.043839Z",
     "shell.execute_reply.started": "2022-08-22T12:45:24.028309Z"
    }
   },
   "outputs": [
    {
     "data": {
      "text/plain": [
       "8    11015\n",
       "9     5343\n",
       "6     5112\n",
       "5     5100\n",
       "Name: attribute_3, dtype: int64"
      ]
     },
     "execution_count": 315,
     "metadata": {},
     "output_type": "execute_result"
    }
   ],
   "source": [
    "df['attribute_3'].value_counts()"
   ]
  },
  {
   "cell_type": "code",
   "execution_count": 316,
   "metadata": {
    "execution": {
     "iopub.execute_input": "2022-08-22T12:45:24.050768Z",
     "iopub.status.busy": "2022-08-22T12:45:24.050312Z",
     "iopub.status.idle": "2022-08-22T12:45:24.060737Z",
     "shell.execute_reply": "2022-08-22T12:45:24.058917Z",
     "shell.execute_reply.started": "2022-08-22T12:45:24.050733Z"
    }
   },
   "outputs": [
    {
     "data": {
      "text/plain": [
       "0    20921\n",
       "1     5649\n",
       "Name: failure, dtype: int64"
      ]
     },
     "execution_count": 316,
     "metadata": {},
     "output_type": "execute_result"
    }
   ],
   "source": [
    "df['failure'].value_counts()"
   ]
  },
  {
   "cell_type": "markdown",
   "metadata": {},
   "source": [
    "## Preprocessing"
   ]
  },
  {
   "cell_type": "markdown",
   "metadata": {},
   "source": [
    "Tried various methods of imputation and encoding but without much effect. So, OHE, median and TruncatedSVD:"
   ]
  },
  {
   "cell_type": "code",
   "execution_count": 317,
   "metadata": {
    "execution": {
     "iopub.execute_input": "2022-08-22T12:45:24.063426Z",
     "iopub.status.busy": "2022-08-22T12:45:24.062689Z",
     "iopub.status.idle": "2022-08-22T12:45:24.072959Z",
     "shell.execute_reply": "2022-08-22T12:45:24.071892Z",
     "shell.execute_reply.started": "2022-08-22T12:45:24.063381Z"
    }
   },
   "outputs": [],
   "source": [
    "def fill_with_median(df, columns):\n",
    "    for column in columns:\n",
    "        df[column] = df[column].fillna(df[column].median())\n",
    "    return df"
   ]
  },
  {
   "cell_type": "code",
   "execution_count": 318,
   "metadata": {
    "execution": {
     "iopub.execute_input": "2022-08-22T12:45:24.074916Z",
     "iopub.status.busy": "2022-08-22T12:45:24.074456Z",
     "iopub.status.idle": "2022-08-22T12:45:24.086466Z",
     "shell.execute_reply": "2022-08-22T12:45:24.085553Z",
     "shell.execute_reply.started": "2022-08-22T12:45:24.074880Z"
    }
   },
   "outputs": [],
   "source": [
    "def one_hot_encoding(df, columns):\n",
    "    dummies = pd.get_dummies(df[columns], drop_first=True)\n",
    "    df[dummies.columns] = dummies\n",
    "    return df"
   ]
  },
  {
   "cell_type": "code",
   "execution_count": 319,
   "metadata": {
    "execution": {
     "iopub.execute_input": "2022-08-22T12:45:24.088389Z",
     "iopub.status.busy": "2022-08-22T12:45:24.087829Z",
     "iopub.status.idle": "2022-08-22T12:45:24.100576Z",
     "shell.execute_reply": "2022-08-22T12:45:24.099539Z",
     "shell.execute_reply.started": "2022-08-22T12:45:24.088355Z"
    }
   },
   "outputs": [],
   "source": [
    "def drop_unused_columns (df, column_list):\n",
    "    return df.drop (column_list, axis=1)"
   ]
  },
  {
   "cell_type": "code",
   "execution_count": 320,
   "metadata": {
    "execution": {
     "iopub.execute_input": "2022-08-22T12:45:24.102920Z",
     "iopub.status.busy": "2022-08-22T12:45:24.102552Z",
     "iopub.status.idle": "2022-08-22T12:45:24.118780Z",
     "shell.execute_reply": "2022-08-22T12:45:24.117599Z",
     "shell.execute_reply.started": "2022-08-22T12:45:24.102889Z"
    }
   },
   "outputs": [
    {
     "data": {
      "text/plain": [
       "['attribute_0', 'attribute_1', 'attribute_2', 'attribute_3', 'product_code']"
      ]
     },
     "execution_count": 320,
     "metadata": {},
     "output_type": "execute_result"
    }
   ],
   "source": [
    "encoded_columns = list(df.filter(like='attribute').columns)\n",
    "encoded_columns.append('product_code')\n",
    "encoded_columns"
   ]
  },
  {
   "cell_type": "code",
   "execution_count": 322,
   "metadata": {
    "execution": {
     "iopub.execute_input": "2022-08-22T12:45:24.195209Z",
     "iopub.status.busy": "2022-08-22T12:45:24.194700Z",
     "iopub.status.idle": "2022-08-22T12:45:24.205043Z",
     "shell.execute_reply": "2022-08-22T12:45:24.203280Z",
     "shell.execute_reply.started": "2022-08-22T12:45:24.195163Z"
    }
   },
   "outputs": [],
   "source": [
    "columns_to_compress = list(df.filter(like='measurement').columns)"
   ]
  },
  {
   "cell_type": "code",
   "execution_count": 321,
   "metadata": {
    "execution": {
     "iopub.execute_input": "2022-08-22T12:45:24.121753Z",
     "iopub.status.busy": "2022-08-22T12:45:24.120305Z",
     "iopub.status.idle": "2022-08-22T12:45:24.192111Z",
     "shell.execute_reply": "2022-08-22T12:45:24.190711Z",
     "shell.execute_reply.started": "2022-08-22T12:45:24.121704Z"
    }
   },
   "outputs": [],
   "source": [
    "df = (\n",
    "        df.pipe(fill_with_median, columns_to_compress + ['loading'])\n",
    "        .pipe(one_hot_encoding, encoded_columns)\n",
    "        .pipe(drop_unused_columns, encoded_columns)\n",
    "    )"
   ]
  },
  {
   "cell_type": "code",
   "execution_count": 323,
   "metadata": {
    "execution": {
     "iopub.execute_input": "2022-08-22T12:45:24.208700Z",
     "iopub.status.busy": "2022-08-22T12:45:24.207150Z",
     "iopub.status.idle": "2022-08-22T12:45:24.219133Z",
     "shell.execute_reply": "2022-08-22T12:45:24.217474Z",
     "shell.execute_reply.started": "2022-08-22T12:45:24.208639Z"
    }
   },
   "outputs": [],
   "source": [
    "N_COMPONENTS = 3"
   ]
  },
  {
   "cell_type": "markdown",
   "metadata": {},
   "source": [
    "This is in fact very questionable since measurement scaling varies, and it's not even guaranteed to be helpful for classification. Works well on public test though."
   ]
  },
  {
   "cell_type": "code",
   "execution_count": 324,
   "metadata": {
    "execution": {
     "iopub.execute_input": "2022-08-22T12:45:24.224032Z",
     "iopub.status.busy": "2022-08-22T12:45:24.222282Z",
     "iopub.status.idle": "2022-08-22T12:45:24.395287Z",
     "shell.execute_reply": "2022-08-22T12:45:24.393959Z",
     "shell.execute_reply.started": "2022-08-22T12:45:24.223972Z"
    }
   },
   "outputs": [
    {
     "data": {
      "text/plain": [
       "0.996971181752584"
      ]
     },
     "execution_count": 324,
     "metadata": {},
     "output_type": "execute_result"
    }
   ],
   "source": [
    "svd = TruncatedSVD(n_components=N_COMPONENTS, random_state=RANDOM_STATE)\n",
    "#svd = LinearDiscriminantAnalysis(n_components=1)\n",
    "svd.fit(df[columns_to_compress], df['failure'])\n",
    "svd.explained_variance_ratio_.sum()"
   ]
  },
  {
   "cell_type": "code",
   "execution_count": 325,
   "metadata": {
    "execution": {
     "iopub.execute_input": "2022-08-22T12:45:24.398474Z",
     "iopub.status.busy": "2022-08-22T12:45:24.397571Z",
     "iopub.status.idle": "2022-08-22T12:45:24.431448Z",
     "shell.execute_reply": "2022-08-22T12:45:24.429591Z",
     "shell.execute_reply.started": "2022-08-22T12:45:24.398422Z"
    }
   },
   "outputs": [],
   "source": [
    "#svd_headers = 'lda'\n",
    "svd_headers = ['svd' + str(i) for i in range(1, N_COMPONENTS + 1)]\n",
    "df[svd_headers] = svd.transform(df[columns_to_compress])\n",
    "df = df.drop(columns_to_compress, axis=1)"
   ]
  },
  {
   "cell_type": "code",
   "execution_count": 326,
   "metadata": {
    "execution": {
     "iopub.execute_input": "2022-08-22T12:45:24.434778Z",
     "iopub.status.busy": "2022-08-22T12:45:24.433859Z",
     "iopub.status.idle": "2022-08-22T12:45:24.468477Z",
     "shell.execute_reply": "2022-08-22T12:45:24.466561Z",
     "shell.execute_reply.started": "2022-08-22T12:45:24.434710Z"
    }
   },
   "outputs": [],
   "source": [
    "df_check = df.dropna()\n",
    "features_train = df_check.drop(['failure'], axis=1)\n",
    "target_train = df_check['failure']"
   ]
  },
  {
   "cell_type": "markdown",
   "metadata": {},
   "source": [
    "## Feature selection"
   ]
  },
  {
   "cell_type": "markdown",
   "metadata": {},
   "source": [
    "TL;DR: most are useless. Loading and 2/3 of SVD left in."
   ]
  },
  {
   "cell_type": "code",
   "execution_count": 327,
   "metadata": {
    "execution": {
     "iopub.execute_input": "2022-08-22T12:45:24.474563Z",
     "iopub.status.busy": "2022-08-22T12:45:24.472172Z",
     "iopub.status.idle": "2022-08-22T12:45:26.043551Z",
     "shell.execute_reply": "2022-08-22T12:45:26.042642Z",
     "shell.execute_reply.started": "2022-08-22T12:45:24.474477Z"
    }
   },
   "outputs": [
    {
     "data": {
      "image/png": "[encoded data removed]",
      "text/plain": [
       "<Figure size 432x288 with 1 Axes>"
      ]
     },
     "metadata": {
      "needs_background": "light"
     },
     "output_type": "display_data"
    }
   ],
   "source": [
    "mi_scores = mutual_info_classif(features_train, target_train, random_state=RANDOM_STATE)\n",
    "sns.violinplot(data=mi_scores, orient='h').set(title='Feature distribution by MI', xlabel='Mutual information');"
   ]
  },
  {
   "cell_type": "code",
   "execution_count": 328,
   "metadata": {
    "execution": {
     "iopub.execute_input": "2022-08-22T12:45:26.045747Z",
     "iopub.status.busy": "2022-08-22T12:45:26.044733Z",
     "iopub.status.idle": "2022-08-22T12:45:26.062396Z",
     "shell.execute_reply": "2022-08-22T12:45:26.060910Z",
     "shell.execute_reply.started": "2022-08-22T12:45:26.045709Z"
    }
   },
   "outputs": [
    {
     "data": {
      "text/html": [
       "<div>\n",
       "<style scoped>\n",
       "    .dataframe tbody tr th:only-of-type {\n",
       "        vertical-align: middle;\n",
       "    }\n",
       "\n",
       "    .dataframe tbody tr th {\n",
       "        vertical-align: top;\n",
       "    }\n",
       "\n",
       "    .dataframe thead th {\n",
       "        text-align: right;\n",
       "    }\n",
       "</style>\n",
       "<table border=\"1\" class=\"dataframe\">\n",
       "  <thead>\n",
       "    <tr style=\"text-align: right;\">\n",
       "      <th></th>\n",
       "      <th>feature</th>\n",
       "      <th>MIC</th>\n",
       "    </tr>\n",
       "  </thead>\n",
       "  <tbody>\n",
       "    <tr>\n",
       "      <th>1</th>\n",
       "      <td>attribute_0_material_7</td>\n",
       "      <td>0.005908</td>\n",
       "    </tr>\n",
       "    <tr>\n",
       "      <th>0</th>\n",
       "      <td>loading</td>\n",
       "      <td>0.004956</td>\n",
       "    </tr>\n",
       "    <tr>\n",
       "      <th>7</th>\n",
       "      <td>product_code_E</td>\n",
       "      <td>0.002561</td>\n",
       "    </tr>\n",
       "    <tr>\n",
       "      <th>4</th>\n",
       "      <td>product_code_B</td>\n",
       "      <td>0.001774</td>\n",
       "    </tr>\n",
       "    <tr>\n",
       "      <th>6</th>\n",
       "      <td>product_code_D</td>\n",
       "      <td>0.001450</td>\n",
       "    </tr>\n",
       "    <tr>\n",
       "      <th>9</th>\n",
       "      <td>svd2</td>\n",
       "      <td>0.000957</td>\n",
       "    </tr>\n",
       "    <tr>\n",
       "      <th>10</th>\n",
       "      <td>svd3</td>\n",
       "      <td>0.000953</td>\n",
       "    </tr>\n",
       "    <tr>\n",
       "      <th>5</th>\n",
       "      <td>product_code_C</td>\n",
       "      <td>0.000581</td>\n",
       "    </tr>\n",
       "    <tr>\n",
       "      <th>2</th>\n",
       "      <td>attribute_1_material_6</td>\n",
       "      <td>0.000000</td>\n",
       "    </tr>\n",
       "    <tr>\n",
       "      <th>3</th>\n",
       "      <td>attribute_1_material_8</td>\n",
       "      <td>0.000000</td>\n",
       "    </tr>\n",
       "    <tr>\n",
       "      <th>8</th>\n",
       "      <td>svd1</td>\n",
       "      <td>0.000000</td>\n",
       "    </tr>\n",
       "  </tbody>\n",
       "</table>\n",
       "</div>"
      ],
      "text/plain": [
       "                   feature       MIC\n",
       "1   attribute_0_material_7  0.005908\n",
       "0                  loading  0.004956\n",
       "7           product_code_E  0.002561\n",
       "4           product_code_B  0.001774\n",
       "6           product_code_D  0.001450\n",
       "9                     svd2  0.000957\n",
       "10                    svd3  0.000953\n",
       "5           product_code_C  0.000581\n",
       "2   attribute_1_material_6  0.000000\n",
       "3   attribute_1_material_8  0.000000\n",
       "8                     svd1  0.000000"
      ]
     },
     "execution_count": 328,
     "metadata": {},
     "output_type": "execute_result"
    }
   ],
   "source": [
    "mic_data = pd.DataFrame()\n",
    "mic_data['feature'] = features_train.columns\n",
    "mic_data['MIC'] = mi_scores\n",
    "  \n",
    "mic_data.sort_values(by='MIC', ascending=False)"
   ]
  },
  {
   "cell_type": "code",
   "execution_count": 329,
   "metadata": {
    "execution": {
     "iopub.execute_input": "2022-08-22T12:45:26.064715Z",
     "iopub.status.busy": "2022-08-22T12:45:26.063654Z",
     "iopub.status.idle": "2022-08-22T12:45:26.072222Z",
     "shell.execute_reply": "2022-08-22T12:45:26.071229Z",
     "shell.execute_reply.started": "2022-08-22T12:45:26.064674Z"
    }
   },
   "outputs": [],
   "source": [
    "recommended_columns = set(mic_data[mic_data['MIC'] != 0]['feature'])"
   ]
  },
  {
   "cell_type": "code",
   "execution_count": 330,
   "metadata": {
    "execution": {
     "iopub.execute_input": "2022-08-22T12:45:26.074409Z",
     "iopub.status.busy": "2022-08-22T12:45:26.073435Z",
     "iopub.status.idle": "2022-08-22T12:45:26.086384Z",
     "shell.execute_reply": "2022-08-22T12:45:26.084196Z",
     "shell.execute_reply.started": "2022-08-22T12:45:26.074372Z"
    }
   },
   "outputs": [],
   "source": [
    "recommended_columns= list(recommended_columns.difference(set(['attribute_1_material_6', 'attribute_0_material_7', 'attribute_1_material_8','product_code_E', 'product_code_D', 'product_code_B', 'product_code_C'])))"
   ]
  },
  {
   "cell_type": "code",
   "execution_count": 331,
   "metadata": {
    "execution": {
     "iopub.execute_input": "2022-08-22T12:45:26.089078Z",
     "iopub.status.busy": "2022-08-22T12:45:26.088321Z",
     "iopub.status.idle": "2022-08-22T12:45:26.137303Z",
     "shell.execute_reply": "2022-08-22T12:45:26.135762Z",
     "shell.execute_reply.started": "2022-08-22T12:45:26.089041Z"
    }
   },
   "outputs": [
    {
     "data": {
      "text/html": [
       "<div>\n",
       "<style scoped>\n",
       "    .dataframe tbody tr th:only-of-type {\n",
       "        vertical-align: middle;\n",
       "    }\n",
       "\n",
       "    .dataframe tbody tr th {\n",
       "        vertical-align: top;\n",
       "    }\n",
       "\n",
       "    .dataframe thead th {\n",
       "        text-align: right;\n",
       "    }\n",
       "</style>\n",
       "<table border=\"1\" class=\"dataframe\">\n",
       "  <thead>\n",
       "    <tr style=\"text-align: right;\">\n",
       "      <th></th>\n",
       "      <th>feature</th>\n",
       "      <th>VIF</th>\n",
       "    </tr>\n",
       "  </thead>\n",
       "  <tbody>\n",
       "    <tr>\n",
       "      <th>0</th>\n",
       "      <td>loading</td>\n",
       "      <td>1.024747</td>\n",
       "    </tr>\n",
       "    <tr>\n",
       "      <th>1</th>\n",
       "      <td>svd2</td>\n",
       "      <td>1.024747</td>\n",
       "    </tr>\n",
       "    <tr>\n",
       "      <th>2</th>\n",
       "      <td>svd3</td>\n",
       "      <td>1.000000</td>\n",
       "    </tr>\n",
       "  </tbody>\n",
       "</table>\n",
       "</div>"
      ],
      "text/plain": [
       "   feature       VIF\n",
       "0  loading  1.024747\n",
       "1     svd2  1.024747\n",
       "2     svd3  1.000000"
      ]
     },
     "execution_count": 331,
     "metadata": {},
     "output_type": "execute_result"
    }
   ],
   "source": [
    "vif_data = pd.DataFrame()\n",
    "vif_data['feature'] = features_train[recommended_columns].columns\n",
    "vif_data['VIF'] = [variance_inflation_factor(features_train[recommended_columns].values, i) for i in range(len(features_train[recommended_columns].columns))]\n",
    "  \n",
    "vif_data.sort_values(by='VIF', ascending=False)"
   ]
  },
  {
   "cell_type": "code",
   "execution_count": 332,
   "metadata": {
    "execution": {
     "iopub.execute_input": "2022-08-22T12:45:26.140663Z",
     "iopub.status.busy": "2022-08-22T12:45:26.139673Z",
     "iopub.status.idle": "2022-08-22T12:45:26.368317Z",
     "shell.execute_reply": "2022-08-22T12:45:26.367053Z",
     "shell.execute_reply.started": "2022-08-22T12:45:26.140600Z"
    }
   },
   "outputs": [
    {
     "name": "stdout",
     "output_type": "stream",
     "text": [
      "Optimization terminated successfully.\n",
      "         Current function value: 0.508896\n",
      "         Iterations 5\n"
     ]
    },
    {
     "data": {
      "text/html": [
       "<table class=\"simpletable\">\n",
       "<caption>Logit Regression Results</caption>\n",
       "<tr>\n",
       "  <th>Dep. Variable:</th>        <td>failure</td>     <th>  No. Observations:  </th>  <td> 26570</td>  \n",
       "</tr>\n",
       "<tr>\n",
       "  <th>Model:</th>                 <td>Logit</td>      <th>  Df Residuals:      </th>  <td> 26566</td>  \n",
       "</tr>\n",
       "<tr>\n",
       "  <th>Method:</th>                 <td>MLE</td>       <th>  Df Model:          </th>  <td>     3</td>  \n",
       "</tr>\n",
       "<tr>\n",
       "  <th>Date:</th>            <td>Mon, 22 Aug 2022</td> <th>  Pseudo R-squ.:     </th>  <td>0.01642</td> \n",
       "</tr>\n",
       "<tr>\n",
       "  <th>Time:</th>                <td>12:45:26</td>     <th>  Log-Likelihood:    </th> <td> -13521.</td> \n",
       "</tr>\n",
       "<tr>\n",
       "  <th>converged:</th>             <td>True</td>       <th>  LL-Null:           </th> <td> -13747.</td> \n",
       "</tr>\n",
       "<tr>\n",
       "  <th>Covariance Type:</th>     <td>nonrobust</td>    <th>  LLR p-value:       </th> <td>1.584e-97</td>\n",
       "</tr>\n",
       "</table>\n",
       "<table class=\"simpletable\">\n",
       "<tr>\n",
       "    <td></td>       <th>coef</th>     <th>std err</th>      <th>z</th>      <th>P>|z|</th>  <th>[0.025</th>    <th>0.975]</th>  \n",
       "</tr>\n",
       "<tr>\n",
       "  <th>const</th> <td>   -1.3358</td> <td>    0.015</td> <td>  -87.183</td> <td> 0.000</td> <td>   -1.366</td> <td>   -1.306</td>\n",
       "</tr>\n",
       "<tr>\n",
       "  <th>x1</th>    <td>    0.2972</td> <td>    0.014</td> <td>   20.657</td> <td> 0.000</td> <td>    0.269</td> <td>    0.325</td>\n",
       "</tr>\n",
       "<tr>\n",
       "  <th>x2</th>    <td>    0.0777</td> <td>    0.015</td> <td>    5.130</td> <td> 0.000</td> <td>    0.048</td> <td>    0.107</td>\n",
       "</tr>\n",
       "<tr>\n",
       "  <th>x3</th>    <td>    0.0300</td> <td>    0.015</td> <td>    1.985</td> <td> 0.047</td> <td>    0.000</td> <td>    0.060</td>\n",
       "</tr>\n",
       "</table>"
      ],
      "text/plain": [
       "<class 'statsmodels.iolib.summary.Summary'>\n",
       "\"\"\"\n",
       "                           Logit Regression Results                           \n",
       "==============================================================================\n",
       "Dep. Variable:                failure   No. Observations:                26570\n",
       "Model:                          Logit   Df Residuals:                    26566\n",
       "Method:                           MLE   Df Model:                            3\n",
       "Date:                Mon, 22 Aug 2022   Pseudo R-squ.:                 0.01642\n",
       "Time:                        12:45:26   Log-Likelihood:                -13521.\n",
       "converged:                       True   LL-Null:                       -13747.\n",
       "Covariance Type:            nonrobust   LLR p-value:                 1.584e-97\n",
       "==============================================================================\n",
       "                 coef    std err          z      P>|z|      [0.025      0.975]\n",
       "------------------------------------------------------------------------------\n",
       "const         -1.3358      0.015    -87.183      0.000      -1.366      -1.306\n",
       "x1             0.2972      0.014     20.657      0.000       0.269       0.325\n",
       "x2             0.0777      0.015      5.130      0.000       0.048       0.107\n",
       "x3             0.0300      0.015      1.985      0.047       0.000       0.060\n",
       "==============================================================================\n",
       "\"\"\""
      ]
     },
     "execution_count": 332,
     "metadata": {},
     "output_type": "execute_result"
    }
   ],
   "source": [
    "scaler = StandardScaler()\n",
    "X_train_std = scaler.fit_transform(features_train[recommended_columns])\n",
    "X_train_std_sm = sm.add_constant(X_train_std)\n",
    "log_reg = sm.Logit(target_train, X_train_std_sm).fit()\n",
    "log_reg.summary()"
   ]
  },
  {
   "cell_type": "code",
   "execution_count": 333,
   "metadata": {
    "execution": {
     "iopub.execute_input": "2022-08-22T12:45:26.380637Z",
     "iopub.status.busy": "2022-08-22T12:45:26.379545Z",
     "iopub.status.idle": "2022-08-22T12:45:26.731655Z",
     "shell.execute_reply": "2022-08-22T12:45:26.730756Z",
     "shell.execute_reply.started": "2022-08-22T12:45:26.380582Z"
    }
   },
   "outputs": [
    {
     "data": {
      "image/png": "[encoded data removed]",
      "text/plain": [
       "<Figure size 1152x1008 with 2 Axes>"
      ]
     },
     "metadata": {
      "needs_background": "light"
     },
     "output_type": "display_data"
    }
   ],
   "source": [
    "plt.figure(figsize=(16,14))\n",
    "sns.heatmap(features_train[recommended_columns].corr(), annot=True, cmap='Blues').set(title='Correlations');"
   ]
  },
  {
   "cell_type": "markdown",
   "metadata": {},
   "source": [
    "## Splitting"
   ]
  },
  {
   "cell_type": "code",
   "execution_count": 334,
   "metadata": {
    "execution": {
     "iopub.execute_input": "2022-08-22T12:45:26.733628Z",
     "iopub.status.busy": "2022-08-22T12:45:26.733063Z",
     "iopub.status.idle": "2022-08-22T12:45:26.739655Z",
     "shell.execute_reply": "2022-08-22T12:45:26.738536Z",
     "shell.execute_reply.started": "2022-08-22T12:45:26.733590Z"
    }
   },
   "outputs": [],
   "source": [
    "df_clean = df[recommended_columns+['failure']]"
   ]
  },
  {
   "cell_type": "code",
   "execution_count": 335,
   "metadata": {
    "execution": {
     "iopub.execute_input": "2022-08-22T12:45:26.741376Z",
     "iopub.status.busy": "2022-08-22T12:45:26.741025Z",
     "iopub.status.idle": "2022-08-22T12:45:26.753336Z",
     "shell.execute_reply": "2022-08-22T12:45:26.752351Z",
     "shell.execute_reply.started": "2022-08-22T12:45:26.741344Z"
    }
   },
   "outputs": [],
   "source": [
    "df_features = df_clean.drop(['failure'], axis=1)\n",
    "df_target = df_clean['failure']\n",
    "#features_train = df_features\n",
    "#target_train = df_target"
   ]
  },
  {
   "cell_type": "code",
   "execution_count": 336,
   "metadata": {
    "execution": {
     "iopub.execute_input": "2022-08-22T12:45:26.755782Z",
     "iopub.status.busy": "2022-08-22T12:45:26.754816Z",
     "iopub.status.idle": "2022-08-22T12:45:26.771242Z",
     "shell.execute_reply": "2022-08-22T12:45:26.770289Z",
     "shell.execute_reply.started": "2022-08-22T12:45:26.755741Z"
    }
   },
   "outputs": [],
   "source": [
    "features_train, features_test, target_train, target_test = train_test_split(df_features, df_target, test_size=0.1, random_state=RANDOM_STATE)"
   ]
  },
  {
   "cell_type": "markdown",
   "metadata": {},
   "source": [
    "## Baseline"
   ]
  },
  {
   "cell_type": "code",
   "execution_count": 337,
   "metadata": {
    "execution": {
     "iopub.execute_input": "2022-08-22T12:45:26.773346Z",
     "iopub.status.busy": "2022-08-22T12:45:26.772732Z",
     "iopub.status.idle": "2022-08-22T12:45:26.804126Z",
     "shell.execute_reply": "2022-08-22T12:45:26.803273Z",
     "shell.execute_reply.started": "2022-08-22T12:45:26.773310Z"
    }
   },
   "outputs": [
    {
     "name": "stdout",
     "output_type": "stream",
     "text": [
      "Strategy: most_frequent, F1: 0.0, ROC_AUC: 0.5, accuracy: 0.8\n",
      "Strategy: prior, F1: 0.0, ROC_AUC: 0.5, accuracy: 0.8\n",
      "Strategy: stratified, F1: 0.2, ROC_AUC: 0.5, accuracy: 0.7\n",
      "Strategy: uniform, F1: 0.3, ROC_AUC: 0.5, accuracy: 0.5\n"
     ]
    }
   ],
   "source": [
    "for strategy in ['most_frequent', 'prior', 'stratified', 'uniform']:\n",
    "    dummy = DummyClassifier(strategy=strategy)\n",
    "    dummy.fit(features_train, target_train)\n",
    "    dummy_predictions = dummy.predict(features_test)\n",
    "       \n",
    "    f1 = f1_score(target_test, dummy_predictions)\n",
    "    acc = accuracy_score(target_test, dummy_predictions)\n",
    "    roc_auc = roc_auc_score(target_test, dummy_predictions)\n",
    "    \n",
    "    print(f'Strategy: {strategy}, F1: {f1:.1f}, ROC_AUC: {roc_auc:.1f}, accuracy: {acc:.1f}')"
   ]
  },
  {
   "cell_type": "markdown",
   "metadata": {},
   "source": [
    "## Optimization"
   ]
  },
  {
   "cell_type": "code",
   "execution_count": 338,
   "metadata": {
    "execution": {
     "iopub.execute_input": "2022-08-22T12:45:26.806041Z",
     "iopub.status.busy": "2022-08-22T12:45:26.805438Z",
     "iopub.status.idle": "2022-08-22T12:45:26.811961Z",
     "shell.execute_reply": "2022-08-22T12:45:26.810553Z",
     "shell.execute_reply.started": "2022-08-22T12:45:26.806005Z"
    }
   },
   "outputs": [],
   "source": [
    "scaler_list = [Normalizer(),\n",
    "               MinMaxScaler(),\n",
    "               StandardScaler(),\n",
    "               RobustScaler(),\n",
    "               PowerTransformer(),\n",
    "               QuantileTransformer(random_state=RANDOM_STATE),\n",
    "               QuantileTransformer(random_state=RANDOM_STATE, output_distribution='normal')]"
   ]
  },
  {
   "cell_type": "markdown",
   "metadata": {},
   "source": [
    "Worth noting optimizing for ROC_AUC yields a bit worse result - things may change on a full test though."
   ]
  },
  {
   "cell_type": "code",
   "execution_count": 339,
   "metadata": {
    "execution": {
     "iopub.execute_input": "2022-08-22T12:45:26.813813Z",
     "iopub.status.busy": "2022-08-22T12:45:26.813393Z",
     "iopub.status.idle": "2022-08-22T12:45:26.825864Z",
     "shell.execute_reply": "2022-08-22T12:45:26.824586Z",
     "shell.execute_reply.started": "2022-08-22T12:45:26.813778Z"
    }
   },
   "outputs": [],
   "source": [
    "def optimize(model, params, X, y):\n",
    "    name = f'{type(model).__name__}'\n",
    "    print(f'Optimizing {name}...')\n",
    "    pipe = Pipeline([('scaler', StandardScaler()), ('classifier', model)]) \n",
    "    gcv = BayesSearchCV(pipe, search_spaces=params, cv=5, scoring='f1', random_state=RANDOM_STATE, n_jobs=-1)\n",
    "    gcv.fit(X, y)\n",
    "    print(f'Best params: {dict(gcv.best_params_)}')\n",
    "    print(f'F1: {(gcv.best_score_):.2f}')\n",
    "    return gcv.best_estimator_"
   ]
  },
  {
   "cell_type": "code",
   "execution_count": 340,
   "metadata": {
    "execution": {
     "iopub.execute_input": "2022-08-22T12:45:26.828062Z",
     "iopub.status.busy": "2022-08-22T12:45:26.827683Z",
     "iopub.status.idle": "2022-08-22T12:47:18.496433Z",
     "shell.execute_reply": "2022-08-22T12:47:18.494813Z",
     "shell.execute_reply.started": "2022-08-22T12:45:26.828029Z"
    }
   },
   "outputs": [
    {
     "name": "stdout",
     "output_type": "stream",
     "text": [
      "Optimizing LogisticRegression...\n",
      "Best params: {'classifier__fit_intercept': False, 'scaler': PowerTransformer()}\n",
      "F1: 0.36\n",
      "CPU times: user 2min 36s, sys: 2min 1s, total: 4min 37s\n",
      "Wall time: 1min 51s\n"
     ]
    }
   ],
   "source": [
    "%%time\n",
    "linear_params = {\n",
    "                    'scaler': scaler_list,\n",
    "                    'classifier__fit_intercept':[True, False],\n",
    "                    #'classifier__l1_ratio':[0, 0.5, 1],\n",
    "                    #'classifier__class_weight':[None, 'balanced'],\n",
    "                }\n",
    "best_linear = optimize(LogisticRegression(n_jobs=-1, random_state=RANDOM_STATE, penalty='none'), linear_params, features_train, target_train)"
   ]
  },
  {
   "cell_type": "code",
   "execution_count": 341,
   "metadata": {
    "execution": {
     "iopub.execute_input": "2022-08-22T12:47:18.498685Z",
     "iopub.status.busy": "2022-08-22T12:47:18.498205Z",
     "iopub.status.idle": "2022-08-22T12:48:26.102274Z",
     "shell.execute_reply": "2022-08-22T12:48:26.101036Z",
     "shell.execute_reply.started": "2022-08-22T12:47:18.498631Z"
    }
   },
   "outputs": [
    {
     "name": "stdout",
     "output_type": "stream",
     "text": [
      "Optimizing GaussianNB...\n",
      "Best params: {'scaler': MinMaxScaler()}\n",
      "F1: 0.05\n",
      "CPU times: user 1min 58s, sys: 1min 40s, total: 3min 38s\n",
      "Wall time: 1min 7s\n"
     ]
    }
   ],
   "source": [
    "%%time\n",
    "nb_params = {\n",
    "                    'scaler': scaler_list,\n",
    "                }\n",
    "best_nb = optimize(GaussianNB(), nb_params, features_train, target_train)"
   ]
  },
  {
   "cell_type": "code",
   "execution_count": 342,
   "metadata": {
    "execution": {
     "iopub.execute_input": "2022-08-22T12:48:26.104546Z",
     "iopub.status.busy": "2022-08-22T12:48:26.104146Z",
     "iopub.status.idle": "2022-08-22T12:50:40.328995Z",
     "shell.execute_reply": "2022-08-22T12:50:40.327563Z",
     "shell.execute_reply.started": "2022-08-22T12:48:26.104485Z"
    }
   },
   "outputs": [
    {
     "name": "stdout",
     "output_type": "stream",
     "text": [
      "Optimizing SGDClassifier...\n",
      "Best params: {'classifier__fit_intercept': False, 'classifier__loss': 'log', 'classifier__shuffle': True, 'scaler': PowerTransformer()}\n",
      "F1: 0.35\n",
      "CPU times: user 3min 18s, sys: 2min 23s, total: 5min 41s\n",
      "Wall time: 2min 14s\n"
     ]
    }
   ],
   "source": [
    "%%time\n",
    "sgd_params = {\n",
    "                    'scaler': scaler_list,\n",
    "                    'classifier__fit_intercept':[True, False],\n",
    "                    'classifier__shuffle':[True, False],\n",
    "                    'classifier__loss':['log','modified_huber']\n",
    "                }\n",
    "best_sgd = optimize(SGDClassifier(random_state=RANDOM_STATE, n_jobs=-1), sgd_params, features_train, target_train)"
   ]
  },
  {
   "cell_type": "markdown",
   "metadata": {},
   "source": [
    "## Evaluation"
   ]
  },
  {
   "cell_type": "code",
   "execution_count": 343,
   "metadata": {
    "execution": {
     "iopub.execute_input": "2022-08-22T12:50:40.331267Z",
     "iopub.status.busy": "2022-08-22T12:50:40.330909Z",
     "iopub.status.idle": "2022-08-22T12:50:40.347890Z",
     "shell.execute_reply": "2022-08-22T12:50:40.346560Z",
     "shell.execute_reply.started": "2022-08-22T12:50:40.331234Z"
    }
   },
   "outputs": [],
   "source": [
    "def calculate_metrics(probabilities, target_test):\n",
    "    predictions = (probabilities > 0.5)\n",
    "    f1 = f1_score(target_test, predictions)\n",
    "    roc_auc = roc_auc_score(target_test, probabilities)\n",
    "    acc = accuracy_score(target_test, predictions)\n",
    "    ap = average_precision_score(target_test, probabilities)\n",
    "    cmatrix = confusion_matrix(target_test, predictions)\n",
    "    \n",
    "    fpr, tpr, _ = roc_curve(target_test, probabilities)\n",
    "    precision, recall, thresholds = precision_recall_curve(target_test, probabilities)\n",
    "    f1_scores = 2 * recall * precision / (recall + precision)\n",
    "    f1_scores = np.nan_to_num(f1_scores)\n",
    "    best_f1 = np.max(f1_scores)\n",
    "    best_thresh = thresholds[np.argmax(f1_scores)]\n",
    "\n",
    "    pred_t = (probabilities > best_thresh)\n",
    "    best_cmatrix = confusion_matrix(target_test, pred_t)\n",
    "    \n",
    "    return f1, best_f1, roc_auc, acc, ap, best_thresh, fpr, tpr, recall, precision, cmatrix, best_cmatrix\n",
    "\n",
    "def visualize_tests(probabilities, target_test):\n",
    "    cmatrices = []\n",
    "\n",
    "    fig, axes = plt.subplots(1, 2, figsize=(15,6))\n",
    "    axes[0].plot([0, 1], linestyle='--')\n",
    "    axes[1].plot([0.5, 0.5], linestyle='--')\n",
    "\n",
    "    print('Processing validation set, please wait warmly...')\n",
    "    f1, best_f1, roc_auc, acc, ap, best_thresh, fpr, tpr, recall, precision, cmatrix, best_cmatrix = calculate_metrics (probabilities, target_test)\n",
    "    axes[0].plot (fpr, tpr);\n",
    "    axes[1].plot (recall, precision);\n",
    "    print (f'F1: {f1:.2f} (max: {best_f1:.2f} at {best_thresh:.2f} threshold), ROC_AUC: {roc_auc:.3f}, accuracy: {acc:.0%}, AP (PR_AUC): {ap:.2f}')\n",
    "    cmatrices.append(cmatrix)\n",
    "    cmatrices.append(best_cmatrix)\n",
    "    \n",
    "    axes[0].set (xlabel='FPR', ylabel='TPR', title='ROC curve', xlim=(0,1), ylim=(0,1))\n",
    "    axes[1].set (xlabel='Recall', ylabel='Precision', title='PR curve', xlim=(0,1), ylim=(0,1))\n",
    "    \n",
    "    fig, axes = plt.subplots(1, 2, figsize=(13, 5), constrained_layout=True)\n",
    "    for cmatrix, ax, title in zip(cmatrices, axes.flat, ['Confusion Maxtrix', 'Confusion Maxtrix (optimal F1 threshold)']):\n",
    "        sns.heatmap(cmatrix, ax=ax, annot=True, cmap='Blues', fmt='d').set(title=title, xlabel='Prediction', ylabel='Reality')\n",
    "    \n",
    "    return best_thresh"
   ]
  },
  {
   "cell_type": "code",
   "execution_count": 344,
   "metadata": {
    "execution": {
     "iopub.execute_input": "2022-08-22T12:50:40.349926Z",
     "iopub.status.busy": "2022-08-22T12:50:40.349570Z",
     "iopub.status.idle": "2022-08-22T12:50:41.347381Z",
     "shell.execute_reply": "2022-08-22T12:50:41.346112Z",
     "shell.execute_reply.started": "2022-08-22T12:50:40.349895Z"
    }
   },
   "outputs": [
    {
     "name": "stdout",
     "output_type": "stream",
     "text": [
      "Processing validation set, please wait warmly...\n",
      "F1: 0.34 (max: 0.35 at 0.50 threshold), ROC_AUC: 0.602, accuracy: 55%, AP (PR_AUC): 0.26\n"
     ]
    },
    {
     "data": {
      "text/plain": [
       "0.5049684477601508"
      ]
     },
     "execution_count": 344,
     "metadata": {},
     "output_type": "execute_result"
    },
    {
     "data": {
      "image/png": "[encoded data removed]",
      "text/plain": [
       "<Figure size 1080x432 with 2 Axes>"
      ]
     },
     "metadata": {
      "needs_background": "light"
     },
     "output_type": "display_data"
    },
    {
     "data": {
      "image/png": "[encoded data removed]",
      "text/plain": [
       "<Figure size 936x360 with 4 Axes>"
      ]
     },
     "metadata": {
      "needs_background": "light"
     },
     "output_type": "display_data"
    }
   ],
   "source": [
    "probs0 = best_linear.predict_proba(features_test)[:,1]\n",
    "visualize_tests(probs0, target_test)"
   ]
  },
  {
   "cell_type": "code",
   "execution_count": 345,
   "metadata": {
    "execution": {
     "iopub.execute_input": "2022-08-22T12:50:41.350385Z",
     "iopub.status.busy": "2022-08-22T12:50:41.349905Z",
     "iopub.status.idle": "2022-08-22T12:50:42.363043Z",
     "shell.execute_reply": "2022-08-22T12:50:42.362066Z",
     "shell.execute_reply.started": "2022-08-22T12:50:41.350336Z"
    }
   },
   "outputs": [
    {
     "name": "stdout",
     "output_type": "stream",
     "text": [
      "Processing validation set, please wait warmly...\n",
      "F1: 0.07 (max: 0.34 at 0.19 threshold), ROC_AUC: 0.596, accuracy: 80%, AP (PR_AUC): 0.26\n"
     ]
    },
    {
     "data": {
      "text/plain": [
       "0.18577973859079766"
      ]
     },
     "execution_count": 345,
     "metadata": {},
     "output_type": "execute_result"
    },
    {
     "data": {
      "image/png": "[encoded data removed]",
      "text/plain": [
       "<Figure size 1080x432 with 2 Axes>"
      ]
     },
     "metadata": {
      "needs_background": "light"
     },
     "output_type": "display_data"
    },
    {
     "data": {
      "image/png": "[encoded data removed]",
      "text/plain": [
       "<Figure size 936x360 with 4 Axes>"
      ]
     },
     "metadata": {
      "needs_background": "light"
     },
     "output_type": "display_data"
    }
   ],
   "source": [
    "probs1 = best_nb.predict_proba(features_test)[:,1]\n",
    "visualize_tests(probs1, target_test)"
   ]
  },
  {
   "cell_type": "code",
   "execution_count": 346,
   "metadata": {
    "execution": {
     "iopub.execute_input": "2022-08-22T12:50:42.365322Z",
     "iopub.status.busy": "2022-08-22T12:50:42.364880Z",
     "iopub.status.idle": "2022-08-22T12:50:43.391416Z",
     "shell.execute_reply": "2022-08-22T12:50:43.389938Z",
     "shell.execute_reply.started": "2022-08-22T12:50:42.365285Z"
    }
   },
   "outputs": [
    {
     "name": "stdout",
     "output_type": "stream",
     "text": [
      "Processing validation set, please wait warmly...\n",
      "F1: 0.34 (max: 0.35 at 0.50 threshold), ROC_AUC: 0.590, accuracy: 55%, AP (PR_AUC): 0.25\n"
     ]
    },
    {
     "data": {
      "text/plain": [
       "0.5002801428951411"
      ]
     },
     "execution_count": 346,
     "metadata": {},
     "output_type": "execute_result"
    },
    {
     "data": {
      "image/png": "[encoded data removed]",
      "text/plain": [
       "<Figure size 1080x432 with 2 Axes>"
      ]
     },
     "metadata": {
      "needs_background": "light"
     },
     "output_type": "display_data"
    },
    {
     "data": {
      "image/png": "[encoded data removed]",
      "text/plain": [
       "<Figure size 936x360 with 4 Axes>"
      ]
     },
     "metadata": {
      "needs_background": "light"
     },
     "output_type": "display_data"
    }
   ],
   "source": [
    "probs2 = best_sgd.predict_proba(features_test)[:,1]\n",
    "visualize_tests(probs2, target_test)"
   ]
  },
  {
   "cell_type": "markdown",
   "metadata": {},
   "source": [
    "## Ensembling"
   ]
  },
  {
   "cell_type": "code",
   "execution_count": 347,
   "metadata": {
    "execution": {
     "iopub.execute_input": "2022-08-22T12:50:43.393173Z",
     "iopub.status.busy": "2022-08-22T12:50:43.392828Z",
     "iopub.status.idle": "2022-08-22T12:50:43.399366Z",
     "shell.execute_reply": "2022-08-22T12:50:43.398054Z",
     "shell.execute_reply.started": "2022-08-22T12:50:43.393142Z"
    }
   },
   "outputs": [],
   "source": [
    "vote = VotingClassifier(estimators=[('lr', best_linear), ('nb', best_nb), ('sgd', best_sgd)], n_jobs=-1, voting='soft')"
   ]
  },
  {
   "cell_type": "code",
   "execution_count": 348,
   "metadata": {
    "execution": {
     "iopub.execute_input": "2022-08-22T12:50:43.401633Z",
     "iopub.status.busy": "2022-08-22T12:50:43.401122Z",
     "iopub.status.idle": "2022-08-22T12:50:43.411608Z",
     "shell.execute_reply": "2022-08-22T12:50:43.410409Z",
     "shell.execute_reply.started": "2022-08-22T12:50:43.401586Z"
    }
   },
   "outputs": [],
   "source": [
    "stack = StackingClassifier(estimators=[('lr', best_linear), ('sgd', best_sgd)], final_estimator=LogisticRegression(), cv=5, n_jobs=-1)"
   ]
  },
  {
   "cell_type": "code",
   "execution_count": 349,
   "metadata": {
    "execution": {
     "iopub.execute_input": "2022-08-22T12:50:43.413582Z",
     "iopub.status.busy": "2022-08-22T12:50:43.413180Z",
     "iopub.status.idle": "2022-08-22T12:50:44.745832Z",
     "shell.execute_reply": "2022-08-22T12:50:44.744239Z",
     "shell.execute_reply.started": "2022-08-22T12:50:43.413536Z"
    }
   },
   "outputs": [
    {
     "name": "stdout",
     "output_type": "stream",
     "text": [
      "Processing validation set, please wait warmly...\n",
      "F1: 0.18 (max: 0.35 at 0.39 threshold), ROC_AUC: 0.600, accuracy: 78%, AP (PR_AUC): 0.26\n"
     ]
    },
    {
     "data": {
      "text/plain": [
       "0.38683011103100434"
      ]
     },
     "execution_count": 349,
     "metadata": {},
     "output_type": "execute_result"
    },
    {
     "data": {
      "image/png": "[encoded data removed]",
      "text/plain": [
       "<Figure size 1080x432 with 2 Axes>"
      ]
     },
     "metadata": {
      "needs_background": "light"
     },
     "output_type": "display_data"
    },
    {
     "data": {
      "image/png": "[encoded data removed]",
      "text/plain": [
       "<Figure size 936x360 with 4 Axes>"
      ]
     },
     "metadata": {
      "needs_background": "light"
     },
     "output_type": "display_data"
    }
   ],
   "source": [
    "vote.fit(features_train, target_train)\n",
    "probs3 = vote.predict_proba(features_test)[:,1]\n",
    "visualize_tests(probs3, target_test)"
   ]
  },
  {
   "cell_type": "code",
   "execution_count": 350,
   "metadata": {
    "execution": {
     "iopub.execute_input": "2022-08-22T12:50:44.749437Z",
     "iopub.status.busy": "2022-08-22T12:50:44.748586Z",
     "iopub.status.idle": "2022-08-22T12:50:47.273327Z",
     "shell.execute_reply": "2022-08-22T12:50:47.271904Z",
     "shell.execute_reply.started": "2022-08-22T12:50:44.749379Z"
    }
   },
   "outputs": [
    {
     "name": "stdout",
     "output_type": "stream",
     "text": [
      "Processing validation set, please wait warmly...\n",
      "F1: 0.00 (max: 0.35 at 0.21 threshold), ROC_AUC: 0.602, accuracy: 81%, AP (PR_AUC): 0.26\n"
     ]
    },
    {
     "data": {
      "text/plain": [
       "0.2097251806103405"
      ]
     },
     "execution_count": 350,
     "metadata": {},
     "output_type": "execute_result"
    },
    {
     "data": {
      "image/png": "[encoded data removed]",
      "text/plain": [
       "<Figure size 1080x432 with 2 Axes>"
      ]
     },
     "metadata": {
      "needs_background": "light"
     },
     "output_type": "display_data"
    },
    {
     "data": {
      "image/png": "[encoded data removed]",
      "text/plain": [
       "<Figure size 936x360 with 4 Axes>"
      ]
     },
     "metadata": {
      "needs_background": "light"
     },
     "output_type": "display_data"
    }
   ],
   "source": [
    "stack.fit(features_train, target_train)\n",
    "probs4 = stack.predict_proba(features_test)[:,1]\n",
    "visualize_tests(probs4, target_test)"
   ]
  },
  {
   "cell_type": "markdown",
   "metadata": {},
   "source": [
    "## Testing"
   ]
  },
  {
   "cell_type": "code",
   "execution_count": 351,
   "metadata": {
    "execution": {
     "iopub.execute_input": "2022-08-22T12:50:47.275794Z",
     "iopub.status.busy": "2022-08-22T12:50:47.275219Z",
     "iopub.status.idle": "2022-08-22T12:50:47.350201Z",
     "shell.execute_reply": "2022-08-22T12:50:47.348949Z",
     "shell.execute_reply.started": "2022-08-22T12:50:47.275757Z"
    }
   },
   "outputs": [],
   "source": [
    "df2 = pd.read_csv('/kaggle/input/tabular-playground-series-aug-2022/test.csv', index_col='id')"
   ]
  },
  {
   "cell_type": "code",
   "execution_count": 352,
   "metadata": {
    "execution": {
     "iopub.execute_input": "2022-08-22T12:50:47.353350Z",
     "iopub.status.busy": "2022-08-22T12:50:47.352628Z",
     "iopub.status.idle": "2022-08-22T12:50:47.375537Z",
     "shell.execute_reply": "2022-08-22T12:50:47.374594Z",
     "shell.execute_reply.started": "2022-08-22T12:50:47.353302Z"
    }
   },
   "outputs": [
    {
     "name": "stdout",
     "output_type": "stream",
     "text": [
      "<class 'pandas.core.frame.DataFrame'>\n",
      "Int64Index: 20775 entries, 26570 to 47344\n",
      "Data columns (total 24 columns):\n",
      " #   Column          Non-Null Count  Dtype  \n",
      "---  ------          --------------  -----  \n",
      " 0   product_code    20775 non-null  object \n",
      " 1   loading         20552 non-null  float64\n",
      " 2   attribute_0     20775 non-null  object \n",
      " 3   attribute_1     20775 non-null  object \n",
      " 4   attribute_2     20775 non-null  int64  \n",
      " 5   attribute_3     20775 non-null  int64  \n",
      " 6   measurement_0   20775 non-null  int64  \n",
      " 7   measurement_1   20775 non-null  int64  \n",
      " 8   measurement_2   20775 non-null  int64  \n",
      " 9   measurement_3   20446 non-null  float64\n",
      " 10  measurement_4   20366 non-null  float64\n",
      " 11  measurement_5   20267 non-null  float64\n",
      " 12  measurement_6   20151 non-null  float64\n",
      " 13  measurement_7   20055 non-null  float64\n",
      " 14  measurement_8   19929 non-null  float64\n",
      " 15  measurement_9   19871 non-null  float64\n",
      " 16  measurement_10  19708 non-null  float64\n",
      " 17  measurement_11  19639 non-null  float64\n",
      " 18  measurement_12  19535 non-null  float64\n",
      " 19  measurement_13  19472 non-null  float64\n",
      " 20  measurement_14  19335 non-null  float64\n",
      " 21  measurement_15  19233 non-null  float64\n",
      " 22  measurement_16  19097 non-null  float64\n",
      " 23  measurement_17  19035 non-null  float64\n",
      "dtypes: float64(16), int64(5), object(3)\n",
      "memory usage: 4.0+ MB\n"
     ]
    }
   ],
   "source": [
    "df2.info()"
   ]
  },
  {
   "cell_type": "code",
   "execution_count": 353,
   "metadata": {
    "execution": {
     "iopub.execute_input": "2022-08-22T12:50:47.377247Z",
     "iopub.status.busy": "2022-08-22T12:50:47.376707Z",
     "iopub.status.idle": "2022-08-22T12:50:47.432371Z",
     "shell.execute_reply": "2022-08-22T12:50:47.430871Z",
     "shell.execute_reply.started": "2022-08-22T12:50:47.377211Z"
    }
   },
   "outputs": [],
   "source": [
    "df2 = (\n",
    "        df2.pipe(fill_with_median, columns_to_compress + ['loading'])\n",
    "        .pipe(one_hot_encoding, encoded_columns)\n",
    "        .pipe(drop_unused_columns, encoded_columns)\n",
    "    )"
   ]
  },
  {
   "cell_type": "code",
   "execution_count": 354,
   "metadata": {
    "execution": {
     "iopub.execute_input": "2022-08-22T12:50:47.435340Z",
     "iopub.status.busy": "2022-08-22T12:50:47.434797Z",
     "iopub.status.idle": "2022-08-22T12:50:47.461091Z",
     "shell.execute_reply": "2022-08-22T12:50:47.459085Z",
     "shell.execute_reply.started": "2022-08-22T12:50:47.435287Z"
    }
   },
   "outputs": [],
   "source": [
    "df2[svd_headers] = svd.transform(df2[columns_to_compress])\n",
    "df2 = df2.drop(columns_to_compress, axis=1)"
   ]
  },
  {
   "cell_type": "code",
   "execution_count": 355,
   "metadata": {
    "execution": {
     "iopub.execute_input": "2022-08-22T12:50:47.464546Z",
     "iopub.status.busy": "2022-08-22T12:50:47.463580Z",
     "iopub.status.idle": "2022-08-22T12:50:47.508090Z",
     "shell.execute_reply": "2022-08-22T12:50:47.505640Z",
     "shell.execute_reply.started": "2022-08-22T12:50:47.464468Z"
    }
   },
   "outputs": [],
   "source": [
    "result = stack.predict_proba(df2[recommended_columns])"
   ]
  },
  {
   "cell_type": "code",
   "execution_count": 356,
   "metadata": {
    "execution": {
     "iopub.execute_input": "2022-08-22T12:50:47.511592Z",
     "iopub.status.busy": "2022-08-22T12:50:47.510628Z",
     "iopub.status.idle": "2022-08-22T12:50:47.524968Z",
     "shell.execute_reply": "2022-08-22T12:50:47.522028Z",
     "shell.execute_reply.started": "2022-08-22T12:50:47.511533Z"
    }
   },
   "outputs": [],
   "source": [
    "test_results = pd.DataFrame(data = {'id': df2.index, 'failure': result[:,1]}).set_index('id')"
   ]
  },
  {
   "cell_type": "code",
   "execution_count": 357,
   "metadata": {
    "execution": {
     "iopub.execute_input": "2022-08-22T12:50:47.529036Z",
     "iopub.status.busy": "2022-08-22T12:50:47.527971Z",
     "iopub.status.idle": "2022-08-22T12:50:47.556053Z",
     "shell.execute_reply": "2022-08-22T12:50:47.554277Z",
     "shell.execute_reply.started": "2022-08-22T12:50:47.528951Z"
    }
   },
   "outputs": [
    {
     "data": {
      "text/html": [
       "<div>\n",
       "<style scoped>\n",
       "    .dataframe tbody tr th:only-of-type {\n",
       "        vertical-align: middle;\n",
       "    }\n",
       "\n",
       "    .dataframe tbody tr th {\n",
       "        vertical-align: top;\n",
       "    }\n",
       "\n",
       "    .dataframe thead th {\n",
       "        text-align: right;\n",
       "    }\n",
       "</style>\n",
       "<table border=\"1\" class=\"dataframe\">\n",
       "  <thead>\n",
       "    <tr style=\"text-align: right;\">\n",
       "      <th></th>\n",
       "      <th>failure</th>\n",
       "    </tr>\n",
       "    <tr>\n",
       "      <th>id</th>\n",
       "      <th></th>\n",
       "    </tr>\n",
       "  </thead>\n",
       "  <tbody>\n",
       "    <tr>\n",
       "      <th>26570</th>\n",
       "      <td>0.197952</td>\n",
       "    </tr>\n",
       "    <tr>\n",
       "      <th>26571</th>\n",
       "      <td>0.185678</td>\n",
       "    </tr>\n",
       "    <tr>\n",
       "      <th>26572</th>\n",
       "      <td>0.190300</td>\n",
       "    </tr>\n",
       "    <tr>\n",
       "      <th>26573</th>\n",
       "      <td>0.185369</td>\n",
       "    </tr>\n",
       "    <tr>\n",
       "      <th>26574</th>\n",
       "      <td>0.316530</td>\n",
       "    </tr>\n",
       "    <tr>\n",
       "      <th>...</th>\n",
       "      <td>...</td>\n",
       "    </tr>\n",
       "    <tr>\n",
       "      <th>47340</th>\n",
       "      <td>0.236225</td>\n",
       "    </tr>\n",
       "    <tr>\n",
       "      <th>47341</th>\n",
       "      <td>0.135502</td>\n",
       "    </tr>\n",
       "    <tr>\n",
       "      <th>47342</th>\n",
       "      <td>0.137812</td>\n",
       "    </tr>\n",
       "    <tr>\n",
       "      <th>47343</th>\n",
       "      <td>0.210532</td>\n",
       "    </tr>\n",
       "    <tr>\n",
       "      <th>47344</th>\n",
       "      <td>0.146877</td>\n",
       "    </tr>\n",
       "  </tbody>\n",
       "</table>\n",
       "<p>20775 rows × 1 columns</p>\n",
       "</div>"
      ],
      "text/plain": [
       "        failure\n",
       "id             \n",
       "26570  0.197952\n",
       "26571  0.185678\n",
       "26572  0.190300\n",
       "26573  0.185369\n",
       "26574  0.316530\n",
       "...         ...\n",
       "47340  0.236225\n",
       "47341  0.135502\n",
       "47342  0.137812\n",
       "47343  0.210532\n",
       "47344  0.146877\n",
       "\n",
       "[20775 rows x 1 columns]"
      ]
     },
     "execution_count": 357,
     "metadata": {},
     "output_type": "execute_result"
    }
   ],
   "source": [
    "test_results"
   ]
  },
  {
   "cell_type": "code",
   "execution_count": 358,
   "metadata": {
    "execution": {
     "iopub.execute_input": "2022-08-22T12:50:47.559656Z",
     "iopub.status.busy": "2022-08-22T12:50:47.558733Z",
     "iopub.status.idle": "2022-08-22T12:50:47.659527Z",
     "shell.execute_reply": "2022-08-22T12:50:47.658453Z",
     "shell.execute_reply.started": "2022-08-22T12:50:47.559600Z"
    }
   },
   "outputs": [],
   "source": [
    "test_results.to_csv('submission.csv')"
   ]
  },
  {
   "cell_type": "markdown",
   "metadata": {},
   "source": [
    "This yields 0.58785 ROC_AUC on the public test, which can be improved a bit further by fitting whe whole dataset."
   ]
  }
 ],
 "metadata": {
  "kernelspec": {
   "display_name": "Python 3 (ipykernel)",
   "language": "python",
   "name": "python3"
  },
  "language_info": {
   "codemirror_mode": {
    "name": "ipython",
    "version": 3
   },
   "file_extension": ".py",
   "mimetype": "text/x-python",
   "name": "python",
   "nbconvert_exporter": "python",
   "pygments_lexer": "ipython3",
   "version": "3.9.7"
  }
 },
 "nbformat": 4,
 "nbformat_minor": 4
}
